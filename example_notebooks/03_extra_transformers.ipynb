{
 "cells": [
  {
   "cell_type": "markdown",
   "id": "3808430c-c73e-41f4-913f-c41ba4aecd20",
   "metadata": {},
   "source": [
    "# Extra transformers\n",
    "\n",
    "Add custom transformers that are not implemented in `nebula`."
   ]
  },
  {
   "cell_type": "code",
   "execution_count": 1,
   "id": "27fc11c7-5f40-4a82-98f1-a8e7b0cf4f06",
   "metadata": {},
   "outputs": [],
   "source": [
    "import yaml\n",
    "\n",
    "from nlsn.nebula.spark_transformers import *\n",
    "from nlsn.nebula.base import Transformer\n",
    "from nlsn.nebula.pipelines.pipelines import TransformerPipeline\n",
    "from nlsn.nebula.pipelines.pipeline_loader import load_pipeline\n",
    "from nlsn.nebula.storage import nebula_storage as ns"
   ]
  },
  {
   "cell_type": "markdown",
   "id": "7ae69a3c-6d94-4906-93bb-c0fd162c41b1",
   "metadata": {},
   "source": [
    "## Create a pipeline with custom transformers using python\n",
    "\n",
    "Three custom transformers:\n",
    "\n",
    "- `Custom_1`: does not inherit the base transformer class `Transformer` from nebula.\n",
    "- `Custom_2`: inherits the base transformer class `Transformer` from nebula.\n",
    "- `Custom_3`: like Custom_1 but implemented in `custom_transformers.py`\n",
    "\n",
    "There are 2 main differences when importing the base transformer class `Transformer` from `nebula`.\n",
    "1. The method `_transform` must be private instead of public\n",
    "2. The initialization parameters are displayed and logged\n",
    "\n",
    "Inheriting the base class `Transformer` is strongly encouraged."
   ]
  },
  {
   "cell_type": "code",
   "execution_count": 2,
   "id": "3f1957c1-3246-4a93-a609-b56e10bb92c6",
   "metadata": {},
   "outputs": [
    {
     "name": "stdout",
     "output_type": "stream",
     "text": [
      "*** TransformerPipeline *** (3 transformers)\n",
      " - Custom_1\n",
      " - Custom_2 -> PARAMS: a=3\n",
      " - Custom_3\n"
     ]
    }
   ],
   "source": [
    "class Custom_1:\n",
    "    def __init__(self, *, a):\n",
    "        self._a = a\n",
    "    \n",
    "    def transform(self, df):  # public\n",
    "        print(\"custom 1\")\n",
    "        return df\n",
    "\n",
    "\n",
    "class Custom_2(Transformer):  # from nlsn.nebula.base import Transformer\n",
    "    def __init__(self, *, a):\n",
    "        super().__init__()\n",
    "        self._a = a\n",
    "    \n",
    "    def _transform(self, df):  # private\n",
    "        print(\"custom 3\")\n",
    "        return df\n",
    "\n",
    "import custom_transformers\n",
    "    \n",
    "\n",
    "pipe = TransformerPipeline([\n",
    "    Custom_1(a=1),  # 'a' will not be displayed\n",
    "    Custom_2(a=3),\n",
    "    custom_transformers.Custom_3(),\n",
    "])\n",
    "\n",
    "pipe.show_pipeline(add_transformer_params=True)"
   ]
  },
  {
   "cell_type": "markdown",
   "id": "a0ec4ccd-0fda-4ef1-9ae9-29c3a3b3ecef",
   "metadata": {},
   "source": [
    "## Pass custom transformers in YAML\n",
    "\n",
    "To pass custom transformers when the YAML approach is used, they must be injected in `nebula` using the keyword argument `extra_transformers` in `load_pipeline`.\n",
    "\n",
    "They must be passed as `list` of objects like `modules` (ie: `from my_library import my_custom_transformers`) or as objects that have the `getattr` method\n",
    "\n",
    "Using modules instead of classes is encouraged.\n",
    "\n",
    "They must be provided as `list` since their order determines the priority, with the first element holding higher priority than the last one.\n",
    "\n",
    "For example, consider two modules, `module_x.py` and `module_y.py`, both featuring the transformer `Transformer_A` but implemented differently.\n",
    "if `module_x.py` precedes `module_y.py` (`extra_transformers=[module_x, module_y]`) `module_x.Transformer_A` takes precedence and overwrites `module_y.Transformer_A`."
   ]
  },
  {
   "cell_type": "code",
   "execution_count": 3,
   "id": "6954aafd-aed9-47e1-a215-3e3ba5539296",
   "metadata": {},
   "outputs": [
    {
     "name": "stdout",
     "output_type": "stream",
     "text": [
      "*** TransformerPipeline *** (3 transformers)\n",
      " - Custom_1\n",
      " - Custom_2 -> PARAMS: a=3\n",
      " - Custom_3\n"
     ]
    }
   ],
   "source": [
    "yml_data = \"\"\"\n",
    "pipeline:\n",
    "  - transformer: Custom_1\n",
    "    params: {\"a\": 1}\n",
    "  - transformer: Custom_2\n",
    "    params: {\"a\": 3}\n",
    "  - transformer: Custom_3  # in custom_transformer.py\n",
    "\"\"\"\n",
    "\n",
    "class MyCustomModule:  # vanilla class that inherently has `getattr` method\n",
    "    Custom_1=Custom_1\n",
    "    Custom_2=Custom_2\n",
    "\n",
    "pipe_cfg = yaml.safe_load(yml_data)\n",
    "\n",
    "pipe = load_pipeline(\n",
    "    pipe_cfg, \n",
    "    extra_transformers=[\n",
    "        custom_transformers, \n",
    "        MyCustomModule\n",
    "    ]  # Add here your list of transformer modules / classes with \"getattr\" method\n",
    ")\n",
    "\n",
    "pipe.show_pipeline(add_transformer_params=True)"
   ]
  },
  {
   "cell_type": "code",
   "execution_count": 4,
   "id": "4e0d92d8-75dc-4fae-bf7b-a6294800e867",
   "metadata": {
    "tags": []
   },
   "outputs": [
    {
     "data": {
      "image/svg+xml": [
       "<?xml version=\"1.0\" encoding=\"UTF-8\" standalone=\"no\"?>\n",
       "<!DOCTYPE svg PUBLIC \"-//W3C//DTD SVG 1.1//EN\"\n",
       " \"http://www.w3.org/Graphics/SVG/1.1/DTD/svg11.dtd\">\n",
       "<!-- Generated by graphviz version 2.43.0 (0)\n",
       " -->\n",
       "<!-- Title: %3 Pages: 1 -->\n",
       "<svg width=\"128pt\" height=\"332pt\"\n",
       " viewBox=\"0.00 0.00 127.59 332.00\" xmlns=\"http://www.w3.org/2000/svg\" xmlns:xlink=\"http://www.w3.org/1999/xlink\">\n",
       "<g id=\"graph0\" class=\"graph\" transform=\"scale(1 1) rotate(0) translate(4 328)\">\n",
       "<title>%3</title>\n",
       "<polygon fill=\"white\" stroke=\"transparent\" points=\"-4,4 -4,-328 123.59,-328 123.59,4 -4,4\"/>\n",
       "<!-- 0 -->\n",
       "<g id=\"node1\" class=\"node\">\n",
       "<title>0</title>\n",
       "<ellipse fill=\"none\" stroke=\"blue\" cx=\"59.79\" cy=\"-306\" rx=\"51.99\" ry=\"18\"/>\n",
       "<text text-anchor=\"middle\" x=\"59.79\" y=\"-302.3\" font-family=\"Times,serif\" font-size=\"14.00\">DF input</text>\n",
       "</g>\n",
       "<!-- 1 -->\n",
       "<g id=\"node2\" class=\"node\">\n",
       "<title>1</title>\n",
       "<path fill=\"none\" stroke=\"black\" d=\"M91.29,-252C91.29,-252 28.29,-252 28.29,-252 22.29,-252 16.29,-246 16.29,-240 16.29,-240 16.29,-228 16.29,-228 16.29,-222 22.29,-216 28.29,-216 28.29,-216 91.29,-216 91.29,-216 97.29,-216 103.29,-222 103.29,-228 103.29,-228 103.29,-240 103.29,-240 103.29,-246 97.29,-252 91.29,-252\"/>\n",
       "<text text-anchor=\"middle\" x=\"59.79\" y=\"-230.3\" font-family=\"Times,serif\" font-size=\"14.00\">Custom_1</text>\n",
       "</g>\n",
       "<!-- 0&#45;&gt;1 -->\n",
       "<g id=\"edge1\" class=\"edge\">\n",
       "<title>0&#45;&gt;1</title>\n",
       "<path fill=\"none\" stroke=\"black\" d=\"M59.79,-287.7C59.79,-279.98 59.79,-270.71 59.79,-262.11\"/>\n",
       "<polygon fill=\"black\" stroke=\"black\" points=\"63.29,-262.1 59.79,-252.1 56.29,-262.1 63.29,-262.1\"/>\n",
       "</g>\n",
       "<!-- 2 -->\n",
       "<g id=\"node3\" class=\"node\">\n",
       "<title>2</title>\n",
       "<path fill=\"none\" stroke=\"black\" d=\"M91.29,-180C91.29,-180 28.29,-180 28.29,-180 22.29,-180 16.29,-174 16.29,-168 16.29,-168 16.29,-156 16.29,-156 16.29,-150 22.29,-144 28.29,-144 28.29,-144 91.29,-144 91.29,-144 97.29,-144 103.29,-150 103.29,-156 103.29,-156 103.29,-168 103.29,-168 103.29,-174 97.29,-180 91.29,-180\"/>\n",
       "<text text-anchor=\"middle\" x=\"59.79\" y=\"-158.3\" font-family=\"Times,serif\" font-size=\"14.00\">Custom_2</text>\n",
       "</g>\n",
       "<!-- 1&#45;&gt;2 -->\n",
       "<g id=\"edge2\" class=\"edge\">\n",
       "<title>1&#45;&gt;2</title>\n",
       "<path fill=\"none\" stroke=\"black\" d=\"M59.79,-215.7C59.79,-207.98 59.79,-198.71 59.79,-190.11\"/>\n",
       "<polygon fill=\"black\" stroke=\"black\" points=\"63.29,-190.1 59.79,-180.1 56.29,-190.1 63.29,-190.1\"/>\n",
       "</g>\n",
       "<!-- 3 -->\n",
       "<g id=\"node4\" class=\"node\">\n",
       "<title>3</title>\n",
       "<path fill=\"none\" stroke=\"black\" d=\"M91.29,-108C91.29,-108 28.29,-108 28.29,-108 22.29,-108 16.29,-102 16.29,-96 16.29,-96 16.29,-84 16.29,-84 16.29,-78 22.29,-72 28.29,-72 28.29,-72 91.29,-72 91.29,-72 97.29,-72 103.29,-78 103.29,-84 103.29,-84 103.29,-96 103.29,-96 103.29,-102 97.29,-108 91.29,-108\"/>\n",
       "<text text-anchor=\"middle\" x=\"59.79\" y=\"-86.3\" font-family=\"Times,serif\" font-size=\"14.00\">Custom_3</text>\n",
       "</g>\n",
       "<!-- 2&#45;&gt;3 -->\n",
       "<g id=\"edge3\" class=\"edge\">\n",
       "<title>2&#45;&gt;3</title>\n",
       "<path fill=\"none\" stroke=\"black\" d=\"M59.79,-143.7C59.79,-135.98 59.79,-126.71 59.79,-118.11\"/>\n",
       "<polygon fill=\"black\" stroke=\"black\" points=\"63.29,-118.1 59.79,-108.1 56.29,-118.1 63.29,-118.1\"/>\n",
       "</g>\n",
       "<!-- 4 -->\n",
       "<g id=\"node5\" class=\"node\">\n",
       "<title>4</title>\n",
       "<ellipse fill=\"none\" stroke=\"blue\" cx=\"59.79\" cy=\"-18\" rx=\"59.59\" ry=\"18\"/>\n",
       "<text text-anchor=\"middle\" x=\"59.79\" y=\"-14.3\" font-family=\"Times,serif\" font-size=\"14.00\">DF Output</text>\n",
       "</g>\n",
       "<!-- 3&#45;&gt;4 -->\n",
       "<g id=\"edge4\" class=\"edge\">\n",
       "<title>3&#45;&gt;4</title>\n",
       "<path fill=\"none\" stroke=\"black\" d=\"M59.79,-71.7C59.79,-63.98 59.79,-54.71 59.79,-46.11\"/>\n",
       "<polygon fill=\"black\" stroke=\"black\" points=\"63.29,-46.1 59.79,-36.1 56.29,-46.1 63.29,-46.1\"/>\n",
       "</g>\n",
       "</g>\n",
       "</svg>\n"
      ],
      "text/plain": [
       "<graphviz.graphs.Digraph at 0x7f7900519a00>"
      ]
     },
     "execution_count": 4,
     "metadata": {},
     "output_type": "execute_result"
    }
   ],
   "source": [
    "pipe.plot_dag()"
   ]
  },
  {
   "cell_type": "code",
   "execution_count": null,
   "id": "c3bf91f5-9b8c-456b-9485-dc3060b3898c",
   "metadata": {},
   "outputs": [],
   "source": []
  }
 ],
 "metadata": {
  "kernelspec": {
   "display_name": "Python 3.9",
   "language": "python",
   "name": "python3"
  },
  "language_info": {
   "codemirror_mode": {
    "name": "ipython",
    "version": 3
   },
   "file_extension": ".py",
   "mimetype": "text/x-python",
   "name": "python",
   "nbconvert_exporter": "python",
   "pygments_lexer": "ipython3",
   "version": "3.9.0"
  }
 },
 "nbformat": 4,
 "nbformat_minor": 5
}
