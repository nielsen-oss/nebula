{
 "cells": [
  {
   "cell_type": "markdown",
   "id": "39cd28c2-8c1a-4d74-83b6-066d2ed67dfb",
   "metadata": {},
   "source": [
    "# Nebula Storage\n",
    "\n",
    "The Nebula storage is an object capable of storing any kind of data (list, integers, dataframes, etc) that lives within the python process, without physically writing any data.\n",
    "\n",
    "Its utility spans several purposes:\n",
    "- passing data and dataframes across transformers (let's suppose you need to perform a join, a transformer inherently takes as input just one single dataframe, you need a way pass the second one.)\n",
    "- storing data and intermediary dataframes, aiding in the debugging process\n",
    "- helping the developer to debug a broken pipeline within a notebook (see next notebook, number `05`)"
   ]
  },
  {
   "cell_type": "code",
   "execution_count": 1,
   "id": "27fc11c7-5f40-4a82-98f1-a8e7b0cf4f06",
   "metadata": {},
   "outputs": [
    {
     "name": "stdout",
     "output_type": "stream",
     "text": [
      "python version: 3.7\n"
     ]
    }
   ],
   "source": [
    "import sys\n",
    "\n",
    "from pyspark.sql import functions as F\n",
    "from pyspark.sql.types import *\n",
    "\n",
    "import yaml\n",
    "\n",
    "from nlsn.nebula.spark_transformers import *\n",
    "from nlsn.nebula.base import Transformer\n",
    "from nlsn.nebula.pipelines.pipelines import TransformerPipeline\n",
    "from nlsn.nebula.pipelines.pipeline_loader import load_pipeline\n",
    "from nlsn.nebula.storage import nebula_storage as ns\n",
    "\n",
    "py_version = \".\".join(map(str, (sys.version_info[0:2])))\n",
    "print(\"python version:\", py_version)"
   ]
  },
  {
   "cell_type": "code",
   "execution_count": 2,
   "id": "7f5a7d42-7a4e-43aa-a0f3-10b378ea1de7",
   "metadata": {
    "tags": []
   },
   "outputs": [
    {
     "name": "stderr",
     "output_type": "stream",
     "text": [
      "WARNING: An illegal reflective access operation has occurred\n",
      "WARNING: Illegal reflective access by org.apache.spark.unsafe.Platform (file:/opt/spark-3.2.0/jars/spark-unsafe_2.12-3.2.0.jar) to constructor java.nio.DirectByteBuffer(long,int)\n",
      "WARNING: Please consider reporting this to the maintainers of org.apache.spark.unsafe.Platform\n",
      "WARNING: Use --illegal-access=warn to enable warnings of further illegal reflective access operations\n",
      "WARNING: All illegal access operations will be denied in a future release\n",
      "Setting default log level to \"WARN\".\n",
      "To adjust logging level use sc.setLogLevel(newLevel). For SparkR, use setLogLevel(newLevel).\n"
     ]
    }
   ],
   "source": [
    "from pyspark.sql import SparkSession\n",
    "\n",
    "spark = SparkSession.builder.getOrCreate()"
   ]
  },
  {
   "cell_type": "code",
   "execution_count": 3,
   "id": "2da247af-df3a-41aa-879b-0abcfe38bb76",
   "metadata": {},
   "outputs": [
    {
     "name": "stderr",
     "output_type": "stream",
     "text": [
      "[Stage 0:>                                                          (0 + 1) / 1]\r"
     ]
    },
    {
     "name": "stdout",
     "output_type": "stream",
     "text": [
      "+-------+-----+-----+\n",
      "|     c1|   c2|   c3|\n",
      "+-------+-----+-----+\n",
      "| 0.1234|    a|    b|\n",
      "| 0.1234|    a|    b|\n",
      "| 0.1234|    a|    b|\n",
      "| 1.1234|    a|    b|\n",
      "| 2.1234|  a  |  b  |\n",
      "| 3.1234|     |     |\n",
      "| 4.1234|     |     |\n",
      "| 5.1234| null| null|\n",
      "| 6.1234|     | null|\n",
      "| 7.1234|     | null|\n",
      "| 8.1234|    a| null|\n",
      "| 9.1234|    a|     |\n",
      "|10.1234|     |    b|\n",
      "|11.1234|    a| null|\n",
      "|12.1234| null|    b|\n",
      "|13.1234| null|    b|\n",
      "|14.1234| null| null|\n",
      "+-------+-----+-----+\n",
      "\n"
     ]
    },
    {
     "name": "stderr",
     "output_type": "stream",
     "text": [
      "                                                                                \r"
     ]
    }
   ],
   "source": [
    "schema = [\n",
    "    StructField(\"c1\", FloatType(), True),\n",
    "    StructField(\"c2\", StringType(), True),\n",
    "    StructField(\"c3\", StringType(), True),\n",
    "]\n",
    "\n",
    "data = [\n",
    "    [0.1234, \"a\", \"b\"],\n",
    "    [0.1234, \"a\", \"b\"],\n",
    "    [0.1234, \"a\", \"b\"],\n",
    "    [1.1234, \"a\", \"  b\"],\n",
    "    [2.1234, \"  a  \", \"  b  \"],\n",
    "    [3.1234, \"\", \"\"],\n",
    "    [4.1234, \"   \", \"   \"],\n",
    "    [5.1234, None, None],\n",
    "    [6.1234, \" \", None],\n",
    "    [7.1234, \"\", None],\n",
    "    [8.1234, \"a\", None],\n",
    "    [9.1234, \"a\", \"\"],\n",
    "    [10.1234, \"   \", \"b\"],\n",
    "    [11.1234, \"a\", None],\n",
    "    [12.1234, None, \"b\"],\n",
    "    [13.1234, None, \"b\"],\n",
    "    [14.1234, None, None],\n",
    "]\n",
    "\n",
    "df_input = spark.createDataFrame(data, schema=StructType(schema)).cache()\n",
    "df_input.show()"
   ]
  },
  {
   "cell_type": "markdown",
   "id": "171f913e-e8f7-4891-88b4-569fda9e946a",
   "metadata": {
    "tags": []
   },
   "source": [
    "## Create a pipeline with two custom transformers using python\n",
    "\n",
    "- `SetToNebulaStorage`: sets some values in nebula storage\n",
    "- `ReadFromNebulaStorage`: reads from nebula storage\n",
    "\n",
    "Values can be stored either as standard values or as debug values by adding the parameter `debug=True`.\n",
    "\n",
    "In the latter case the debug values are not actually stored unless the debug mode is active. It can be activated / deactivaed by calling `nebula_storage.allow_debug(True / False)`.\n",
    "\n",
    "This feature empowers users to store extensive data for debugging purposes and then refrain from storing it when transitioning the code into production simply by turning off the debug mode through `nebula_storage.allow_debug(False)` without modifying the code.\n",
    "\n",
    "It's important to note that the storage for standard values and debug values is shared, so careful attention is needed to avoid unintentional overrides.\n",
    "\n",
    "Additionally, there is the option to allow or disallow the overwriting mode. When overwriting is disallowed, attempting to store a value twice with the same key (without clearing it) and overwriting the previous value will throw a `KeyError`."
   ]
  },
  {
   "cell_type": "code",
   "execution_count": 2,
   "id": "c0d109f1-056a-4e4d-8c1a-1b1b84eebe32",
   "metadata": {},
   "outputs": [
    {
     "name": "stdout",
     "output_type": "stream",
     "text": [
      "*** TransformerPipeline *** (2 transformers)\n",
      " - SetToNebulaStorage\n",
      " - ReadFromNebulaStorage\n"
     ]
    }
   ],
   "source": [
    "from nlsn.nebula.storage import nebula_storage as ns\n",
    "\n",
    "\n",
    "class SetToNebulaStorage:\n",
    "    @staticmethod\n",
    "    def transform(df):\n",
    "        ns.set(\"this_key\", 10)\n",
    "        \n",
    "        ns.allow_debug(False)\n",
    "        # Deactivate the debug storage\n",
    "        ns.set(\"debug_value_1\", \"value_1\", debug=True)  # This value will not be stored\n",
    "        \n",
    "        ns.allow_debug(True)\n",
    "        ns.set(\"debug_value_2\", \"value_2\", debug=True)\n",
    "        return df\n",
    "\n",
    "\n",
    "class ReadFromNebulaStorage:\n",
    "    @staticmethod\n",
    "    def transform(df):\n",
    "        value = ns.get(\"this_key\")\n",
    "        print(f\"------- read: {value} -------\")\n",
    "        return df\n",
    "\n",
    "\n",
    "pipe = TransformerPipeline([\n",
    "    SetToNebulaStorage(),\n",
    "    ReadFromNebulaStorage(),\n",
    "])\n",
    "\n",
    "pipe.show_pipeline(add_transformer_params=True)"
   ]
  },
  {
   "cell_type": "code",
   "execution_count": 3,
   "id": "a7cd7021-3bc7-4a9d-bf23-adaf4fc8c1c2",
   "metadata": {},
   "outputs": [
    {
     "data": {
      "image/svg+xml": [
       "<?xml version=\"1.0\" encoding=\"UTF-8\" standalone=\"no\"?>\n",
       "<!DOCTYPE svg PUBLIC \"-//W3C//DTD SVG 1.1//EN\"\n",
       " \"http://www.w3.org/Graphics/SVG/1.1/DTD/svg11.dtd\">\n",
       "<!-- Generated by graphviz version 10.0.1 (20240210.2158)\n",
       " -->\n",
       "<!-- Pages: 1 -->\n",
       "<svg width=\"162pt\" height=\"260pt\"\n",
       " viewBox=\"0.00 0.00 162.00 260.00\" xmlns=\"http://www.w3.org/2000/svg\" xmlns:xlink=\"http://www.w3.org/1999/xlink\">\n",
       "<g id=\"graph0\" class=\"graph\" transform=\"scale(1 1) rotate(0) translate(4 256)\">\n",
       "<polygon fill=\"white\" stroke=\"none\" points=\"-4,4 -4,-256 158,-256 158,4 -4,4\"/>\n",
       "<!-- 0 -->\n",
       "<g id=\"node1\" class=\"node\">\n",
       "<title>0</title>\n",
       "<ellipse fill=\"none\" stroke=\"blue\" cx=\"77\" cy=\"-234\" rx=\"37.78\" ry=\"18\"/>\n",
       "<text text-anchor=\"middle\" x=\"77\" y=\"-228.97\" font-family=\"helvetica, verdana\" font-size=\"12.00\">DF input</text>\n",
       "</g>\n",
       "<!-- 1 -->\n",
       "<g id=\"node2\" class=\"node\">\n",
       "<title>1</title>\n",
       "<path fill=\"none\" stroke=\"black\" d=\"M128.88,-180C128.88,-180 25.12,-180 25.12,-180 19.12,-180 13.12,-174 13.12,-168 13.12,-168 13.12,-156 13.12,-156 13.12,-150 19.12,-144 25.12,-144 25.12,-144 128.88,-144 128.88,-144 134.88,-144 140.88,-150 140.88,-156 140.88,-156 140.88,-168 140.88,-168 140.88,-174 134.88,-180 128.88,-180\"/>\n",
       "<text text-anchor=\"middle\" x=\"77\" y=\"-156.97\" font-family=\"helvetica, verdana\" font-size=\"12.00\">SetToNebulaStorage</text>\n",
       "</g>\n",
       "<!-- 0&#45;&gt;1 -->\n",
       "<g id=\"edge1\" class=\"edge\">\n",
       "<title>0&#45;&gt;1</title>\n",
       "<path fill=\"none\" stroke=\"black\" d=\"M77,-215.7C77,-208.41 77,-199.73 77,-191.54\"/>\n",
       "<polygon fill=\"black\" stroke=\"black\" points=\"80.5,-191.62 77,-181.62 73.5,-191.62 80.5,-191.62\"/>\n",
       "</g>\n",
       "<!-- 2 -->\n",
       "<g id=\"node3\" class=\"node\">\n",
       "<title>2</title>\n",
       "<path fill=\"none\" stroke=\"black\" d=\"M142,-108C142,-108 12,-108 12,-108 6,-108 0,-102 0,-96 0,-96 0,-84 0,-84 0,-78 6,-72 12,-72 12,-72 142,-72 142,-72 148,-72 154,-78 154,-84 154,-84 154,-96 154,-96 154,-102 148,-108 142,-108\"/>\n",
       "<text text-anchor=\"middle\" x=\"77\" y=\"-84.97\" font-family=\"helvetica, verdana\" font-size=\"12.00\">ReadFromNebulaStorage</text>\n",
       "</g>\n",
       "<!-- 1&#45;&gt;2 -->\n",
       "<g id=\"edge2\" class=\"edge\">\n",
       "<title>1&#45;&gt;2</title>\n",
       "<path fill=\"none\" stroke=\"black\" d=\"M77,-143.7C77,-136.41 77,-127.73 77,-119.54\"/>\n",
       "<polygon fill=\"black\" stroke=\"black\" points=\"80.5,-119.62 77,-109.62 73.5,-119.62 80.5,-119.62\"/>\n",
       "</g>\n",
       "<!-- 3 -->\n",
       "<g id=\"node4\" class=\"node\">\n",
       "<title>3</title>\n",
       "<ellipse fill=\"none\" stroke=\"blue\" cx=\"77\" cy=\"-18\" rx=\"41.91\" ry=\"18\"/>\n",
       "<text text-anchor=\"middle\" x=\"77\" y=\"-12.97\" font-family=\"helvetica, verdana\" font-size=\"12.00\">DF output</text>\n",
       "</g>\n",
       "<!-- 2&#45;&gt;3 -->\n",
       "<g id=\"edge3\" class=\"edge\">\n",
       "<title>2&#45;&gt;3</title>\n",
       "<path fill=\"none\" stroke=\"black\" d=\"M77,-71.7C77,-64.41 77,-55.73 77,-47.54\"/>\n",
       "<polygon fill=\"black\" stroke=\"black\" points=\"80.5,-47.62 77,-37.62 73.5,-47.62 80.5,-47.62\"/>\n",
       "</g>\n",
       "</g>\n",
       "</svg>\n"
      ],
      "text/plain": [
       "<graphviz.graphs.Digraph at 0x7fe118549b90>"
      ]
     },
     "execution_count": 3,
     "metadata": {},
     "output_type": "execute_result"
    }
   ],
   "source": [
    "pipe.plot_dag()"
   ]
  },
  {
   "cell_type": "code",
   "execution_count": 6,
   "id": "cf1e7d05-c13a-4e5f-9da6-867847f94889",
   "metadata": {},
   "outputs": [
    {
     "name": "stderr",
     "output_type": "stream",
     "text": [
      "2024-05-16 14:10:34,333 | pipelines.py:516 [INFO]: Running *** TransformerPipeline *** (2 transformers) \n",
      "2024-05-16 14:10:34,342 | pipelines.py:283 [INFO]: Running SetToNebulaStorage ... \n",
      "2024-05-16 14:10:34,343 | storage.py:124 [INFO]: Nebula Storage: setting an object (<class 'int'>) with the key \"this_key\". \n",
      "2024-05-16 14:10:34,343 | storage.py:89 [INFO]: Nebula Storage: deactivate debug storage. \n",
      "2024-05-16 14:10:34,344 | storage.py:134 [INFO]: Nebula Storage: asked to set \"debug_value_1\" in debug mode but the storage debug is not active. The object will not be stored. \n",
      "2024-05-16 14:10:34,344 | storage.py:87 [INFO]: Nebula Storage: activate debug storage. \n",
      "2024-05-16 14:10:34,345 | storage.py:124 [INFO]: Nebula Storage: setting an object (<class 'str'>) with the key \"debug_value_2\". \n",
      "2024-05-16 14:10:34,345 | pipelines.py:297 [INFO]: Execution time for SetToNebulaStorage: 0.0s \n",
      "2024-05-16 14:10:34,346 | pipelines.py:283 [INFO]: Running ReadFromNebulaStorage ... \n",
      "2024-05-16 14:10:34,346 | pipelines.py:297 [INFO]: Execution time for ReadFromNebulaStorage: 0.0s \n",
      "2024-05-16 14:10:34,347 | pipelines.py:1309 [INFO]: Pipeline run completed in 0 seconds. \n"
     ]
    },
    {
     "name": "stdout",
     "output_type": "stream",
     "text": [
      "------- read: 10 -------\n"
     ]
    }
   ],
   "source": [
    "df_out = pipe.run(df_input)"
   ]
  },
  {
   "cell_type": "markdown",
   "id": "4f5c92bf-257e-4329-9dca-7051d63c0c52",
   "metadata": {},
   "source": [
    "### Nebula storage methods and properties\n",
    "\n",
    "- `is_overwriting_allowed` (_property_): return wether the overwrting is allowed\n",
    "- `is_debug_mode` (_property_): return wether the debug mode is allowed\n",
    "- `allow_overwriting()` (_method_): allow the overwriting mode\n",
    "- `disallow_overwriting()` (_method_): disallow the overwriting mode\n",
    "- `allow_debug(bool)` (_method_): allow / disallow debug mode\n",
    "- `list_keys()` (_method_): return the current keys as a sorted list\n",
    "- `count_objects()` (_method_): return the number of stored objects\n",
    "- `clear(str | list(str) | None)` (_method_): clear all cache or remove some specific key(s).\n",
    "- `get(str)` (_method_): return the object stored with the provided key\n",
    "- `isin(str)` (_method_): check if the provided key exists"
   ]
  },
  {
   "cell_type": "code",
   "execution_count": 7,
   "id": "0076fddb-bbed-4827-900f-394ffce828b7",
   "metadata": {},
   "outputs": [
    {
     "name": "stdout",
     "output_type": "stream",
     "text": [
      "overwriting mode: True\n",
      "debug mode: True\n",
      "current keys: ['debug_value_2', 'this_key']\n",
      "number of stored objects: ['debug_value_2', 'this_key']\n"
     ]
    }
   ],
   "source": [
    "print(f\"overwriting mode: {ns.is_overwriting_allowed}\")\n",
    "print(f\"debug mode: {ns.is_debug_mode}\")\n",
    "print(f\"current keys: {ns.list_keys()}\")\n",
    "print(f\"number of stored objects: {ns.list_keys()}\")"
   ]
  },
  {
   "cell_type": "markdown",
   "id": "cd940042-992e-4925-81b0-8e20e3cc4248",
   "metadata": {},
   "source": [
    "#### Note that the `debug_value_1` is not stored because when attempted to store, the debug was not active"
   ]
  },
  {
   "cell_type": "markdown",
   "id": "b785aee5-5a7d-4aaa-ad45-51960d5aa30d",
   "metadata": {},
   "source": [
    "### Moreover, it is feasible to insert storage requests between transformers. \n",
    "\n",
    "This allows the pipeline dataframe to be stored between steps, enabling later reuse for debugging or in other transformers.\n",
    "\n",
    "A storage request is a single-key dictionary, such as:\n",
    "- `{\"store\": \"key_x\"}`: Store the intermediate dataframe with the key key_x\n",
    "- `{\"store_debug\": \"key_y\"}`: Store the intermediate dataframe in debug mode with the key key_y\n",
    "- `{\"storage_debug_mode\": True}`: activate the debug mode\n",
    "- `{\"storage_debug_mode\": False}`: deactivate the debug mode"
   ]
  },
  {
   "cell_type": "code",
   "execution_count": 4,
   "id": "47985866-2c65-4982-bede-295d7aa223ab",
   "metadata": {},
   "outputs": [
    {
     "name": "stderr",
     "output_type": "stream",
     "text": [
      "2024-08-25 15:41:32,181 | storage.py:108 [INFO]: Nebula Storage: clear. \n",
      "2024-08-25 15:41:32,183 | storage.py:118 [INFO]: Nebula Storage: 0 keys remained after clearing. \n"
     ]
    },
    {
     "name": "stdout",
     "output_type": "stream",
     "text": [
      "*** TransformerPipeline *** (2 transformers)\n",
      " - Limit -> PARAMS: n=5\n",
      "   --> Deactivate storage debug mode\n",
      "   --> Store the dataframe with the key \"only-5-rows\"\n",
      " - Limit -> PARAMS: n=3\n",
      "   --> Store the dataframe with the key \"this-key-will-be-skipped\" in debug mode\"\n",
      "   --> Activate storage debug mode\n",
      "   --> Store the dataframe with the key \"only-3-rows\" in debug mode\"\n",
      "   --> Deactivate storage debug mode\n"
     ]
    }
   ],
   "source": [
    "ns.clear()\n",
    "\n",
    "pipe = TransformerPipeline([\n",
    "    Limit(n=5),\n",
    "    {\"storage_debug_mode\": False},\n",
    "    {\"store\": \"only-5-rows\"},  # Store the dataframe\n",
    "    Limit(n=3),\n",
    "    {\"store_debug\": \"this-key-will-be-skipped\"},  # Store the dataframe in debug mode, but the debug mode is not active yet\n",
    "    {\"storage_debug_mode\": True},  # Turn on debug mode\n",
    "    {\"store_debug\": \"only-3-rows\"},  # Store the dataframe in debug mode\n",
    "    {\"storage_debug_mode\": False},  # Turn off debug mode\n",
    "])\n",
    "\n",
    "pipe.show_pipeline(add_transformer_params=True)"
   ]
  },
  {
   "cell_type": "code",
   "execution_count": 5,
   "id": "cb94ebc8-e0d6-49cb-8726-a640ef2f69fd",
   "metadata": {},
   "outputs": [
    {
     "data": {
      "image/svg+xml": [
       "<?xml version=\"1.0\" encoding=\"UTF-8\" standalone=\"no\"?>\n",
       "<!DOCTYPE svg PUBLIC \"-//W3C//DTD SVG 1.1//EN\"\n",
       " \"http://www.w3.org/Graphics/SVG/1.1/DTD/svg11.dtd\">\n",
       "<!-- Generated by graphviz version 10.0.1 (20240210.2158)\n",
       " -->\n",
       "<!-- Pages: 1 -->\n",
       "<svg width=\"159pt\" height=\"692pt\"\n",
       " viewBox=\"0.00 0.00 159.00 692.00\" xmlns=\"http://www.w3.org/2000/svg\" xmlns:xlink=\"http://www.w3.org/1999/xlink\">\n",
       "<g id=\"graph0\" class=\"graph\" transform=\"scale(1 1) rotate(0) translate(4 688)\">\n",
       "<polygon fill=\"white\" stroke=\"none\" points=\"-4,4 -4,-688 155,-688 155,4 -4,4\"/>\n",
       "<!-- 0 -->\n",
       "<g id=\"node1\" class=\"node\">\n",
       "<title>0</title>\n",
       "<ellipse fill=\"none\" stroke=\"blue\" cx=\"75.5\" cy=\"-666\" rx=\"37.78\" ry=\"18\"/>\n",
       "<text text-anchor=\"middle\" x=\"75.5\" y=\"-660.98\" font-family=\"helvetica, verdana\" font-size=\"12.00\">DF input</text>\n",
       "</g>\n",
       "<!-- 1 -->\n",
       "<g id=\"node2\" class=\"node\">\n",
       "<title>1</title>\n",
       "<path fill=\"none\" stroke=\"black\" d=\"M90.5,-612C90.5,-612 60.5,-612 60.5,-612 54.5,-612 48.5,-606 48.5,-600 48.5,-600 48.5,-588 48.5,-588 48.5,-582 54.5,-576 60.5,-576 60.5,-576 90.5,-576 90.5,-576 96.5,-576 102.5,-582 102.5,-588 102.5,-588 102.5,-600 102.5,-600 102.5,-606 96.5,-612 90.5,-612\"/>\n",
       "<text text-anchor=\"middle\" x=\"75.5\" y=\"-588.98\" font-family=\"helvetica, verdana\" font-size=\"12.00\">Limit</text>\n",
       "</g>\n",
       "<!-- 0&#45;&gt;1 -->\n",
       "<g id=\"edge1\" class=\"edge\">\n",
       "<title>0&#45;&gt;1</title>\n",
       "<path fill=\"none\" stroke=\"black\" d=\"M75.5,-647.7C75.5,-640.41 75.5,-631.73 75.5,-623.54\"/>\n",
       "<polygon fill=\"black\" stroke=\"black\" points=\"79,-623.62 75.5,-613.62 72,-623.62 79,-623.62\"/>\n",
       "</g>\n",
       "<!-- 2 -->\n",
       "<g id=\"node3\" class=\"node\">\n",
       "<title>2</title>\n",
       "<path fill=\"none\" stroke=\"blue\" d=\"M146.88,-536.73C146.88,-538.53 114.88,-540 75.5,-540 36.12,-540 4.12,-538.53 4.12,-536.73 4.12,-536.73 4.12,-507.27 4.12,-507.27 4.12,-505.47 36.12,-504 75.5,-504 114.88,-504 146.88,-505.47 146.88,-507.27 146.88,-507.27 146.88,-536.73 146.88,-536.73\"/>\n",
       "<path fill=\"none\" stroke=\"blue\" d=\"M146.88,-536.73C146.88,-534.92 114.88,-533.45 75.5,-533.45 36.12,-533.45 4.12,-534.92 4.12,-536.73\"/>\n",
       "<text text-anchor=\"middle\" x=\"75.5\" y=\"-516.98\" font-family=\"helvetica, verdana\" font-size=\"12.00\">Deactivate debug mode</text>\n",
       "</g>\n",
       "<!-- 1&#45;&gt;2 -->\n",
       "<g id=\"edge2\" class=\"edge\">\n",
       "<title>1&#45;&gt;2</title>\n",
       "<path fill=\"none\" stroke=\"black\" d=\"M75.5,-575.7C75.5,-568.41 75.5,-559.73 75.5,-551.54\"/>\n",
       "<polygon fill=\"black\" stroke=\"black\" points=\"79,-551.62 75.5,-541.62 72,-551.62 79,-551.62\"/>\n",
       "</g>\n",
       "<!-- 3 -->\n",
       "<g id=\"node4\" class=\"node\">\n",
       "<title>3</title>\n",
       "<path fill=\"none\" stroke=\"red\" d=\"M114.62,-464.73C114.62,-466.53 97.09,-468 75.5,-468 53.91,-468 36.38,-466.53 36.38,-464.73 36.38,-464.73 36.38,-435.27 36.38,-435.27 36.38,-433.47 53.91,-432 75.5,-432 97.09,-432 114.62,-433.47 114.62,-435.27 114.62,-435.27 114.62,-464.73 114.62,-464.73\"/>\n",
       "<path fill=\"none\" stroke=\"red\" d=\"M114.62,-464.73C114.62,-462.92 97.09,-461.45 75.5,-461.45 53.91,-461.45 36.38,-462.92 36.38,-464.73\"/>\n",
       "<text text-anchor=\"middle\" x=\"75.5\" y=\"-444.98\" font-family=\"helvetica, verdana\" font-size=\"12.00\">only&#45;5&#45;rows</text>\n",
       "</g>\n",
       "<!-- 2&#45;&gt;3 -->\n",
       "<g id=\"edge3\" class=\"edge\">\n",
       "<title>2&#45;&gt;3</title>\n",
       "<path fill=\"none\" stroke=\"black\" d=\"M75.5,-503.7C75.5,-496.41 75.5,-487.73 75.5,-479.54\"/>\n",
       "<polygon fill=\"black\" stroke=\"black\" points=\"79,-479.62 75.5,-469.62 72,-479.62 79,-479.62\"/>\n",
       "</g>\n",
       "<!-- 4 -->\n",
       "<g id=\"node5\" class=\"node\">\n",
       "<title>4</title>\n",
       "<path fill=\"none\" stroke=\"black\" d=\"M90.5,-396C90.5,-396 60.5,-396 60.5,-396 54.5,-396 48.5,-390 48.5,-384 48.5,-384 48.5,-372 48.5,-372 48.5,-366 54.5,-360 60.5,-360 60.5,-360 90.5,-360 90.5,-360 96.5,-360 102.5,-366 102.5,-372 102.5,-372 102.5,-384 102.5,-384 102.5,-390 96.5,-396 90.5,-396\"/>\n",
       "<text text-anchor=\"middle\" x=\"75.5\" y=\"-372.98\" font-family=\"helvetica, verdana\" font-size=\"12.00\">Limit</text>\n",
       "</g>\n",
       "<!-- 3&#45;&gt;4 -->\n",
       "<g id=\"edge4\" class=\"edge\">\n",
       "<title>3&#45;&gt;4</title>\n",
       "<path fill=\"none\" stroke=\"black\" d=\"M75.5,-431.7C75.5,-424.41 75.5,-415.73 75.5,-407.54\"/>\n",
       "<polygon fill=\"black\" stroke=\"black\" points=\"79,-407.62 75.5,-397.62 72,-407.62 79,-407.62\"/>\n",
       "</g>\n",
       "<!-- 5 -->\n",
       "<g id=\"node6\" class=\"node\">\n",
       "<title>5</title>\n",
       "<path fill=\"none\" stroke=\"orange\" d=\"M151,-320.73C151,-322.53 117.16,-324 75.5,-324 33.84,-324 0,-322.53 0,-320.73 0,-320.73 0,-291.27 0,-291.27 0,-289.47 33.84,-288 75.5,-288 117.16,-288 151,-289.47 151,-291.27 151,-291.27 151,-320.73 151,-320.73\"/>\n",
       "<path fill=\"none\" stroke=\"orange\" d=\"M151,-320.73C151,-318.92 117.16,-317.45 75.5,-317.45 33.84,-317.45 0,-318.92 0,-320.73\"/>\n",
       "<text text-anchor=\"middle\" x=\"75.5\" y=\"-300.98\" font-family=\"helvetica, verdana\" font-size=\"12.00\">&quot;this&#45;key&#45;will&#45;be&#45;skipped&quot;</text>\n",
       "</g>\n",
       "<!-- 4&#45;&gt;5 -->\n",
       "<g id=\"edge5\" class=\"edge\">\n",
       "<title>4&#45;&gt;5</title>\n",
       "<path fill=\"none\" stroke=\"black\" d=\"M75.5,-359.7C75.5,-352.41 75.5,-343.73 75.5,-335.54\"/>\n",
       "<polygon fill=\"black\" stroke=\"black\" points=\"79,-335.62 75.5,-325.62 72,-335.62 79,-335.62\"/>\n",
       "</g>\n",
       "<!-- 6 -->\n",
       "<g id=\"node7\" class=\"node\">\n",
       "<title>6</title>\n",
       "<path fill=\"none\" stroke=\"blue\" d=\"M139.75,-248.73C139.75,-250.53 110.95,-252 75.5,-252 40.05,-252 11.25,-250.53 11.25,-248.73 11.25,-248.73 11.25,-219.27 11.25,-219.27 11.25,-217.47 40.05,-216 75.5,-216 110.95,-216 139.75,-217.47 139.75,-219.27 139.75,-219.27 139.75,-248.73 139.75,-248.73\"/>\n",
       "<path fill=\"none\" stroke=\"blue\" d=\"M139.75,-248.73C139.75,-246.92 110.95,-245.45 75.5,-245.45 40.05,-245.45 11.25,-246.92 11.25,-248.73\"/>\n",
       "<text text-anchor=\"middle\" x=\"75.5\" y=\"-228.97\" font-family=\"helvetica, verdana\" font-size=\"12.00\">Activate debug mode</text>\n",
       "</g>\n",
       "<!-- 5&#45;&gt;6 -->\n",
       "<g id=\"edge6\" class=\"edge\">\n",
       "<title>5&#45;&gt;6</title>\n",
       "<path fill=\"none\" stroke=\"black\" d=\"M75.5,-287.7C75.5,-280.41 75.5,-271.73 75.5,-263.54\"/>\n",
       "<polygon fill=\"black\" stroke=\"black\" points=\"79,-263.62 75.5,-253.62 72,-263.62 79,-263.62\"/>\n",
       "</g>\n",
       "<!-- 7 -->\n",
       "<g id=\"node8\" class=\"node\">\n",
       "<title>7</title>\n",
       "<path fill=\"none\" stroke=\"orange\" d=\"M119.12,-176.73C119.12,-178.53 99.57,-180 75.5,-180 51.43,-180 31.88,-178.53 31.88,-176.73 31.88,-176.73 31.88,-147.27 31.88,-147.27 31.88,-145.47 51.43,-144 75.5,-144 99.57,-144 119.12,-145.47 119.12,-147.27 119.12,-147.27 119.12,-176.73 119.12,-176.73\"/>\n",
       "<path fill=\"none\" stroke=\"orange\" d=\"M119.12,-176.73C119.12,-174.92 99.57,-173.45 75.5,-173.45 51.43,-173.45 31.88,-174.92 31.88,-176.73\"/>\n",
       "<text text-anchor=\"middle\" x=\"75.5\" y=\"-156.97\" font-family=\"helvetica, verdana\" font-size=\"12.00\">&quot;only&#45;3&#45;rows&quot;</text>\n",
       "</g>\n",
       "<!-- 6&#45;&gt;7 -->\n",
       "<g id=\"edge7\" class=\"edge\">\n",
       "<title>6&#45;&gt;7</title>\n",
       "<path fill=\"none\" stroke=\"black\" d=\"M75.5,-215.7C75.5,-208.41 75.5,-199.73 75.5,-191.54\"/>\n",
       "<polygon fill=\"black\" stroke=\"black\" points=\"79,-191.62 75.5,-181.62 72,-191.62 79,-191.62\"/>\n",
       "</g>\n",
       "<!-- 8 -->\n",
       "<g id=\"node9\" class=\"node\">\n",
       "<title>8</title>\n",
       "<path fill=\"none\" stroke=\"blue\" d=\"M146.88,-104.73C146.88,-106.53 114.88,-108 75.5,-108 36.12,-108 4.12,-106.53 4.12,-104.73 4.12,-104.73 4.12,-75.27 4.12,-75.27 4.12,-73.47 36.12,-72 75.5,-72 114.88,-72 146.88,-73.47 146.88,-75.27 146.88,-75.27 146.88,-104.73 146.88,-104.73\"/>\n",
       "<path fill=\"none\" stroke=\"blue\" d=\"M146.88,-104.73C146.88,-102.92 114.88,-101.45 75.5,-101.45 36.12,-101.45 4.12,-102.92 4.12,-104.73\"/>\n",
       "<text text-anchor=\"middle\" x=\"75.5\" y=\"-84.97\" font-family=\"helvetica, verdana\" font-size=\"12.00\">Deactivate debug mode</text>\n",
       "</g>\n",
       "<!-- 7&#45;&gt;8 -->\n",
       "<g id=\"edge8\" class=\"edge\">\n",
       "<title>7&#45;&gt;8</title>\n",
       "<path fill=\"none\" stroke=\"black\" d=\"M75.5,-143.7C75.5,-136.41 75.5,-127.73 75.5,-119.54\"/>\n",
       "<polygon fill=\"black\" stroke=\"black\" points=\"79,-119.62 75.5,-109.62 72,-119.62 79,-119.62\"/>\n",
       "</g>\n",
       "<!-- 9 -->\n",
       "<g id=\"node10\" class=\"node\">\n",
       "<title>9</title>\n",
       "<ellipse fill=\"none\" stroke=\"blue\" cx=\"75.5\" cy=\"-18\" rx=\"41.91\" ry=\"18\"/>\n",
       "<text text-anchor=\"middle\" x=\"75.5\" y=\"-12.97\" font-family=\"helvetica, verdana\" font-size=\"12.00\">DF output</text>\n",
       "</g>\n",
       "<!-- 8&#45;&gt;9 -->\n",
       "<g id=\"edge9\" class=\"edge\">\n",
       "<title>8&#45;&gt;9</title>\n",
       "<path fill=\"none\" stroke=\"black\" d=\"M75.5,-71.7C75.5,-64.41 75.5,-55.73 75.5,-47.54\"/>\n",
       "<polygon fill=\"black\" stroke=\"black\" points=\"79,-47.62 75.5,-37.62 72,-47.62 79,-47.62\"/>\n",
       "</g>\n",
       "</g>\n",
       "</svg>\n"
      ],
      "text/plain": [
       "<graphviz.graphs.Digraph at 0x7fe078a38d50>"
      ]
     },
     "execution_count": 5,
     "metadata": {},
     "output_type": "execute_result"
    }
   ],
   "source": [
    "pipe.plot_dag()"
   ]
  },
  {
   "cell_type": "markdown",
   "id": "74c505f1-ef33-4122-9c69-d4101aa221d7",
   "metadata": {},
   "source": [
    "## Create the same pipeline using yaml"
   ]
  },
  {
   "cell_type": "code",
   "execution_count": 10,
   "id": "d52a3306-8b2b-4b48-99b4-a3eb58080c8f",
   "metadata": {},
   "outputs": [
    {
     "name": "stdout",
     "output_type": "stream",
     "text": [
      "*** TransformerPipeline *** (2 transformers)\n",
      " - Limit -> PARAMS: n=5\n",
      "   --> Deactivate storage debug mode\n",
      "   --> Store the dataframe with the key \"only-5-rows\"\n",
      " - Limit -> PARAMS: n=3\n",
      "   --> Store the dataframe with the key \"this-key-will-be-skipped\" in debug mode\"\n",
      "   --> Activate storage debug mode\n",
      "   --> Store the dataframe with the key \"only-3-rows\" in debug mode\"\n",
      "   --> Deactivate storage debug mode\n"
     ]
    }
   ],
   "source": [
    "yml_data = \"\"\"\n",
    "pipeline:\n",
    "  - transformer: Limit\n",
    "    params:\n",
    "        n: 5\n",
    "  - storage_debug_mode: False\n",
    "  - store: \"only-5-rows\"\n",
    "  - transformer: Limit\n",
    "    params:\n",
    "        n: 3\n",
    "  - store_debug: \"this-key-will-be-skipped\"\n",
    "  - storage_debug_mode: True\n",
    "  - store_debug: \"only-3-rows\"\n",
    "  - storage_debug_mode: False\n",
    "\"\"\"\n",
    "\n",
    "pipe_cfg = yaml.safe_load(yml_data)\n",
    "\n",
    "pipe = load_pipeline(pipe_cfg)\n",
    "\n",
    "pipe.show_pipeline(add_transformer_params=True)"
   ]
  },
  {
   "cell_type": "code",
   "execution_count": 11,
   "id": "253b96c7-db3f-4490-98bd-d820cf017fee",
   "metadata": {},
   "outputs": [
    {
     "name": "stderr",
     "output_type": "stream",
     "text": [
      "2024-05-16 14:10:34,719 | storage.py:108 [INFO]: Nebula Storage: clear. \n",
      "2024-05-16 14:10:34,719 | storage.py:118 [INFO]: Nebula Storage: 0 keys remained after clearing. \n",
      "2024-05-16 14:10:34,720 | pipelines.py:516 [INFO]: Running *** TransformerPipeline *** (2 transformers) \n",
      "2024-05-16 14:10:34,721 | pipelines.py:283 [INFO]: Running Limit -> PARAMS: n=5 ... \n",
      "2024-05-16 14:10:34,725 | pipelines.py:297 [INFO]: Execution time for Limit: 0.0s \n",
      "2024-05-16 14:10:34,725 | pipelines.py:270 [INFO]:    --> Deactivate storage debug mode \n",
      "2024-05-16 14:10:34,726 | storage.py:89 [INFO]: Nebula Storage: deactivate debug storage. \n",
      "2024-05-16 14:10:34,726 | pipelines.py:260 [INFO]:    --> Store the dataframe with the key \"only-5-rows\" \n",
      "2024-05-16 14:10:34,727 | storage.py:124 [INFO]: Nebula Storage: setting an object (<class 'pyspark.sql.dataframe.DataFrame'>) with the key \"only-5-rows\". \n",
      "2024-05-16 14:10:34,727 | pipelines.py:283 [INFO]: Running Limit -> PARAMS: n=3 ... \n",
      "2024-05-16 14:10:34,730 | pipelines.py:297 [INFO]: Execution time for Limit: 0.0s \n",
      "2024-05-16 14:10:34,731 | pipelines.py:264 [INFO]:    --> Store the dataframe with the key \"this-key-will-be-skipped\" in debug mode\" \n",
      "2024-05-16 14:10:34,731 | storage.py:134 [INFO]: Nebula Storage: asked to set \"this-key-will-be-skipped\" in debug mode but the storage debug is not active. The object will not be stored. \n",
      "2024-05-16 14:10:34,731 | pipelines.py:267 [INFO]:    --> Activate storage debug mode \n",
      "2024-05-16 14:10:34,732 | storage.py:87 [INFO]: Nebula Storage: activate debug storage. \n",
      "2024-05-16 14:10:34,732 | pipelines.py:264 [INFO]:    --> Store the dataframe with the key \"only-3-rows\" in debug mode\" \n",
      "2024-05-16 14:10:34,733 | storage.py:124 [INFO]: Nebula Storage: setting an object (<class 'pyspark.sql.dataframe.DataFrame'>) with the key \"only-3-rows\". \n",
      "2024-05-16 14:10:34,733 | pipelines.py:270 [INFO]:    --> Deactivate storage debug mode \n",
      "2024-05-16 14:10:34,733 | storage.py:89 [INFO]: Nebula Storage: deactivate debug storage. \n",
      "2024-05-16 14:10:34,734 | pipelines.py:1309 [INFO]: Pipeline run completed in 0 seconds. \n"
     ]
    },
    {
     "name": "stdout",
     "output_type": "stream",
     "text": [
      "+------+---+---+\n",
      "|    c1| c2| c3|\n",
      "+------+---+---+\n",
      "|0.1234|  a|  b|\n",
      "|0.1234|  a|  b|\n",
      "|0.1234|  a|  b|\n",
      "+------+---+---+\n",
      "\n"
     ]
    }
   ],
   "source": [
    "ns.clear()\n",
    "\n",
    "pipe.run(df_input).show()"
   ]
  },
  {
   "cell_type": "code",
   "execution_count": 12,
   "id": "4bb0ed62-e39e-492e-8dff-57a29d71ebae",
   "metadata": {},
   "outputs": [
    {
     "data": {
      "text/plain": [
       "['only-3-rows', 'only-5-rows']"
      ]
     },
     "execution_count": 12,
     "metadata": {},
     "output_type": "execute_result"
    }
   ],
   "source": [
    "ns.list_keys()"
   ]
  },
  {
   "cell_type": "markdown",
   "id": "b1243ff0-ef55-4aef-9629-67fcd085ffc4",
   "metadata": {},
   "source": [
    "### After the first `Limit(n=5)` transformer:"
   ]
  },
  {
   "cell_type": "code",
   "execution_count": 13,
   "id": "0c3582ca-3411-46ac-ae4b-c8f23333b4ac",
   "metadata": {},
   "outputs": [
    {
     "name": "stdout",
     "output_type": "stream",
     "text": [
      "+------+-----+-----+\n",
      "|    c1|   c2|   c3|\n",
      "+------+-----+-----+\n",
      "|0.1234|    a|    b|\n",
      "|0.1234|    a|    b|\n",
      "|0.1234|    a|    b|\n",
      "|1.1234|    a|    b|\n",
      "|2.1234|  a  |  b  |\n",
      "+------+-----+-----+\n",
      "\n"
     ]
    }
   ],
   "source": [
    "ns.get(\"only-5-rows\").show()"
   ]
  },
  {
   "cell_type": "markdown",
   "id": "b7e7e169-f93b-40f0-ae61-8aa185ff71c9",
   "metadata": {},
   "source": [
    "### After the second `Limit(n=3)` transformer:"
   ]
  },
  {
   "cell_type": "code",
   "execution_count": 14,
   "id": "2f76e45d-2d78-42fb-9116-a75bbbf85535",
   "metadata": {},
   "outputs": [
    {
     "name": "stdout",
     "output_type": "stream",
     "text": [
      "+------+---+---+\n",
      "|    c1| c2| c3|\n",
      "+------+---+---+\n",
      "|0.1234|  a|  b|\n",
      "|0.1234|  a|  b|\n",
      "|0.1234|  a|  b|\n",
      "+------+---+---+\n",
      "\n"
     ]
    }
   ],
   "source": [
    "ns.get(\"only-3-rows\").show()"
   ]
  },
  {
   "cell_type": "code",
   "execution_count": null,
   "id": "12fcc0cb-6faf-4923-9c4e-12ea1cb760f9",
   "metadata": {},
   "outputs": [],
   "source": []
  }
 ],
 "metadata": {
  "kernelspec": {
   "display_name": "Python 3 (ipykernel)",
   "language": "python",
   "name": "python3"
  },
  "language_info": {
   "codemirror_mode": {
    "name": "ipython",
    "version": 3
   },
   "file_extension": ".py",
   "mimetype": "text/x-python",
   "name": "python",
   "nbconvert_exporter": "python",
   "pygments_lexer": "ipython3",
   "version": "3.7.9"
  }
 },
 "nbformat": 4,
 "nbformat_minor": 5
}
